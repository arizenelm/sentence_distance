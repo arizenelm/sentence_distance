{
 "cells": [
  {
   "cell_type": "code",
   "execution_count": 1,
   "metadata": {},
   "outputs": [],
   "source": [
    "import pandas as pd"
   ]
  },
  {
   "cell_type": "code",
   "execution_count": 12,
   "metadata": {},
   "outputs": [],
   "source": [
    "df_match_raw = pd.read_csv('data/match_raw.csv', sep=';')\n",
    "nordic = []\n",
    "#match_dup = {}\n",
    "match = {}\n",
    "for i in range(len(df_match_raw)) :\n",
    "    s1 = df_match_raw['rus'][i]\n",
    "    j = s1.find(':')\n",
    "    nordic.append(s1[j+2:].lower())\n",
    "    if not pd.isna(df_match_raw['best_match'][i]) :\n",
    "        match[s1[j+2:].lower()] = df_match_raw['best_match'][i].lower()\n",
    "        #match[str(df_match_raw['best_match'][i]).lower()] = s1[j+2:].lower()\n",
    "df_nordic = pd.DataFrame(data=nordic, columns=['word'])\n",
    "df_nordic.to_csv('data/nordic.csv', sep=';')\n",
    "\n",
    "\n",
    "df_match = pd.DataFrame(data=list(match.items()), columns=['nord', 'rus'])\n",
    "df_match.to_csv('data/match.csv', sep=';')\n"
   ]
  }
 ],
 "metadata": {
  "kernelspec": {
   "display_name": "env",
   "language": "python",
   "name": "python3"
  },
  "language_info": {
   "codemirror_mode": {
    "name": "ipython",
    "version": 3
   },
   "file_extension": ".py",
   "mimetype": "text/x-python",
   "name": "python",
   "nbconvert_exporter": "python",
   "pygments_lexer": "ipython3",
   "version": "3.11.2"
  }
 },
 "nbformat": 4,
 "nbformat_minor": 2
}
