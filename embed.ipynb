{
 "cells": [
  {
   "cell_type": "code",
   "execution_count": 4,
   "metadata": {},
   "outputs": [],
   "source": [
    "from sentence_transformers import SentenceTransformer, InputExample, losses, models\n",
    "from scipy.spatial.distance import cosine\n",
    "import pandas as pd\n",
    "import numpy as np"
   ]
  },
  {
   "cell_type": "code",
   "execution_count": 9,
   "metadata": {},
   "outputs": [],
   "source": [
    "model_untrained = SentenceTransformer('distiluse-base-multilingual-cased-v1')\n",
    "model_trained = SentenceTransformer('./models/model_trained_2_bs8_epoch15/')"
   ]
  },
  {
   "cell_type": "code",
   "execution_count": 10,
   "metadata": {},
   "outputs": [
    {
     "name": "stdout",
     "output_type": "stream",
     "text": [
      "writing...\n"
     ]
    }
   ],
   "source": [
    "df_nord = pd.read_csv('data/nordic.csv', sep=';')\n",
    "df_rus = pd.read_csv('data/russian.csv', sep=';')\n",
    "\n",
    "num = df_rus.count()['word'] + df_nord.count()['word']\n",
    "\n",
    "embeddings_untrained = {}\n",
    "embeddings_trained = {}\n",
    "\n",
    "count = 0\n",
    "end = len(df_rus) + len(df_nord)\n",
    "mean = 0.0\n",
    "import sys\n",
    "for x in df_rus['word']:\n",
    "    print(\"{:3.2f}\".format(count / end * 100) + '%', end='\\r')\n",
    "    if pd.notna(x) :\n",
    "        embeddings_untrained[x] = (model_untrained.encode(x))\n",
    "        embeddings_trained[x] = (model_trained.encode(x))\n",
    "    count += 1\n",
    "    sys.stdout.flush()\n",
    "\n",
    "for x in df_nord['word']:\n",
    "    print(\"{:3.2f}\".format(count / end * 100) + '%', end='\\r')\n",
    "    if pd.notna(x) :\n",
    "        embeddings_untrained[x] = (model_untrained.encode(x))\n",
    "        embeddings_trained[x] = (model_trained.encode(x))\n",
    "    count += 1\n",
    "    sys.stdout.flush()\n",
    "\n",
    "mean /= len(embeddings_untrained)\n",
    "print('writing...')\n",
    "import pickle\n",
    "f1 = open('data/trained_5.pkl', 'wb')\n",
    "f2 = open('data/untrained.pkl', 'wb')\n",
    "pickle.dump(embeddings_trained, f1)\n",
    "pickle.dump(embeddings_untrained, f2)\n",
    "f1.close()\n",
    "f2.close()"
   ]
  }
 ],
 "metadata": {
  "kernelspec": {
   "display_name": "env",
   "language": "python",
   "name": "python3"
  },
  "language_info": {
   "codemirror_mode": {
    "name": "ipython",
    "version": 3
   },
   "file_extension": ".py",
   "mimetype": "text/x-python",
   "name": "python",
   "nbconvert_exporter": "python",
   "pygments_lexer": "ipython3",
   "version": "3.11.2"
  }
 },
 "nbformat": 4,
 "nbformat_minor": 2
}
