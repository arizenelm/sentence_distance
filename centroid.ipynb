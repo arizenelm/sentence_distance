{
 "cells": [
  {
   "cell_type": "code",
   "execution_count": 2,
   "metadata": {},
   "outputs": [
    {
     "name": "stderr",
     "output_type": "stream",
     "text": [
      "/home/arizenelm/Cloud/Projects/word_distance/env/lib/python3.11/site-packages/tqdm/auto.py:21: TqdmWarning: IProgress not found. Please update jupyter and ipywidgets. See https://ipywidgets.readthedocs.io/en/stable/user_install.html\n",
      "  from .autonotebook import tqdm as notebook_tqdm\n"
     ]
    }
   ],
   "source": [
    "from sentence_transformers import SentenceTransformer, InputExample, losses, models\n",
    "from scipy.spatial.distance import cosine\n",
    "from torch.utils.data import DataLoader\n",
    "import itertools\n",
    "import pandas as pd\n",
    "import numpy as np"
   ]
  },
  {
   "cell_type": "code",
   "execution_count": 3,
   "metadata": {},
   "outputs": [],
   "source": [
    "\n",
    "model = SentenceTransformer('distiluse-base-multilingual-cased-v1')"
   ]
  },
  {
   "cell_type": "code",
   "execution_count": 37,
   "metadata": {},
   "outputs": [
    {
     "name": "stdout",
     "output_type": "stream",
     "text": [
      "объем выбросов вредных(загрязняющих) веществ в атмосферный воздух от автомобильного транспорта\n",
      "выбросы загрязняющих атмосферу веществ, отходящих от стационарных источников, за i полугодие 0.34269338846206665\n",
      "выброшено в атмосферу  загрязняющих веществ за отчетный год от сжигания топлива (для выработки электро- и теплоэнергии) 0.39892399311065674\n",
      "объем выбросов вредных (загрязняющих) веществ в атмосферный воздух от стационарных источников, расположенных на территории субъекта российской федерации 0.33451420068740845\n",
      "объем выбросов вредных(загрязняющих) веществ в атмосферный воздух от автомобильного транспорта 0.22578537464141846\n",
      "объем выбросов вредных(загрязняющих) веществ в атмосферный воздух от железнодорожного транспорта 0.25013846158981323\n"
     ]
    }
   ],
   "source": [
    "def centeroidnp(arr):\n",
    "    return np.sum(arr, axis=0) / len(arr)\n",
    "\n",
    "left_sentence = 'выбросы загрязняющих веществ в атмосферу (тонн)'\n",
    "left_encode = model.encode(left_sentence)\n",
    "\n",
    "sentences = [\n",
    "    'выбросы загрязняющих атмосферу веществ, отходящих от стационарных источников, за i полугодие',\n",
    "    'выброшено в атмосферу  загрязняющих веществ за отчетный год от сжигания топлива (для выработки электро- и теплоэнергии)',\n",
    "    'объем выбросов вредных (загрязняющих) веществ в атмосферный воздух от стационарных источников, расположенных на территории субъекта российской федерации',\n",
    "    'объем выбросов вредных(загрязняющих) веществ в атмосферный воздух от автомобильного транспорта',\n",
    "    'объем выбросов вредных(загрязняющих) веществ в атмосферный воздух от железнодорожного транспорта'\n",
    "]\n",
    "\n",
    "\n",
    "\n",
    "sentence_encoding = {}\n",
    "for s in sentences :\n",
    "    e = model.encode(s)\n",
    "    sentence_encoding[s] = e / np.linalg.norm(e)\n",
    "\n",
    "\n",
    "from scipy import spatial\n",
    "\n",
    "kd_tree = spatial.KDTree([vec for _, vec in sentence_encoding.items()])\n",
    "kd_tree.query(left_encode)\n",
    "print(sentences[kd_tree.query(centeroidnp(np.array([i for i in sentence_encoding.values()])))[1]])\n",
    "\n",
    "for s, e in sentence_encoding.items() :\n",
    "    print(s, cosine(left_encode, e))"
   ]
  },
  {
   "cell_type": "code",
   "execution_count": 38,
   "metadata": {},
   "outputs": [
    {
     "name": "stdout",
     "output_type": "stream",
     "text": [
      "розничные продажи алкогольной продукции на душу населения (в литрах этанола)\n",
      "продажа алкогольных напитков в абсолютном алкоголе на душу населения 0.22396540641784668\n",
      "продажа алкогольных напитков в натуральном выражении (оперативные данные) 0.2763362526893616\n",
      "продажа алкогольных напитков в расчете на душу населения (в натуральном выражении) 0.20913797616958618\n",
      "розничные продажи алкогольной продукции (в литрах этанола) 0.2112828493118286\n",
      "розничные продажи алкогольной продукции на душу населения (в литрах этанола) 0.1819286346435547\n"
     ]
    }
   ],
   "source": [
    "\n",
    "left_sentence = 'продажа алкогольных напитков (литров чистого спирта на человека)'\n",
    "left_encode = model.encode(left_sentence)\n",
    "\n",
    "sentences = [\n",
    "    'продажа алкогольных напитков в абсолютном алкоголе на душу населения',\n",
    "    'продажа алкогольных напитков в натуральном выражении (оперативные данные)',\n",
    "    'продажа алкогольных напитков в расчете на душу населения (в натуральном выражении)',\n",
    "    'розничные продажи алкогольной продукции (в литрах этанола)',\n",
    "    'розничные продажи алкогольной продукции на душу населения (в литрах этанола)'\n",
    "]\n",
    "\n",
    "\n",
    "\n",
    "sentence_encoding = {}\n",
    "for s in sentences :\n",
    "    e = model.encode(s)\n",
    "    sentence_encoding[s] = e / np.linalg.norm(e)\n",
    "\n",
    "\n",
    "from scipy import spatial\n",
    "\n",
    "kd_tree = spatial.KDTree([vec for _, vec in sentence_encoding.items()])\n",
    "kd_tree.query(left_encode)\n",
    "print(sentences[kd_tree.query(centeroidnp(np.array([i for i in sentence_encoding.values()])))[1]])\n",
    "\n",
    "for s, e in sentence_encoding.items() :\n",
    "    print(s, cosine(left_encode, e))"
   ]
  },
  {
   "cell_type": "code",
   "execution_count": 39,
   "metadata": {},
   "outputs": [
    {
     "name": "stdout",
     "output_type": "stream",
     "text": [
      "расходы на конечное потребление домашних хозяйств\n",
      "индексы-дефляторы расходов на конечное потребление домашних хозяйств 0.351800799369812\n",
      "индексы физического объёма расходов на конечное потребление домашних хозяйств 0.3770894408226013\n",
      "расходы на конечное потребление домашних хозяйств 0.20133543014526367\n",
      "расходы на конечное потребление некоммерческих организаций, обслуживающих домашние хозяйства 0.35620856285095215\n",
      "потребительские расходы домашних хозяйств (всего, в том числе по видам расходов) 0.37997937202453613\n",
      "потребительские расходы домашних хозяйств в среднем на члена домохозяйства в год 0.4326879382133484\n",
      "расходы на потребление, в среднем на члена домашнего хозяйства, в месяц 0.45436590909957886\n",
      "структура расходов на конечное потребление домашних хозяйств 0.27881181240081787\n",
      "потребительские расходы домашних хозяйств в среднем на 100  членов домашних хозяйств в месяц 0.4891204237937927\n",
      "потребительские расходы домашних хозяйств  в группировках по целям потребления на члена домашнего хозяйства в месяц 0.4353232979774475\n"
     ]
    }
   ],
   "source": [
    "\n",
    "left_sentence = 'расходы домашних хозяйств на конечное потребление в млн евро'\n",
    "left_encode = model.encode(left_sentence)\n",
    "\n",
    "sentences = [\n",
    "    'индексы-дефляторы расходов на конечное потребление домашних хозяйств',\n",
    "    'индексы физического объёма расходов на конечное потребление домашних хозяйств',\n",
    "    'расходы на конечное потребление домашних хозяйств',\n",
    "    'расходы на конечное потребление некоммерческих организаций, обслуживающих домашние хозяйства',\n",
    "    'потребительские расходы домашних хозяйств (всего, в том числе по видам расходов)',\n",
    "    'потребительские расходы домашних хозяйств в среднем на члена домохозяйства в год',\n",
    "    'расходы на потребление, в среднем на члена домашнего хозяйства, в месяц',\n",
    "    'структура расходов на конечное потребление домашних хозяйств',\n",
    "    'потребительские расходы домашних хозяйств в среднем на 100  членов домашних хозяйств в месяц',\n",
    "    'потребительские расходы домашних хозяйств  в группировках по целям потребления на члена домашнего хозяйства в месяц'\n",
    "]\n",
    "\n",
    "\n",
    "\n",
    "sentence_encoding = {}\n",
    "for s in sentences :\n",
    "    e = model.encode(s)\n",
    "    sentence_encoding[s] = e / np.linalg.norm(e)\n",
    "\n",
    "\n",
    "from scipy import spatial\n",
    "\n",
    "kd_tree = spatial.KDTree([vec for _, vec in sentence_encoding.items()])\n",
    "kd_tree.query(left_encode)\n",
    "print(sentences[kd_tree.query(centeroidnp(np.array([i for i in sentence_encoding.values()])))[1]])\n",
    "\n",
    "for s, e in sentence_encoding.items() :\n",
    "    print(s, cosine(left_encode, e))"
   ]
  }
 ],
 "metadata": {
  "kernelspec": {
   "display_name": "env",
   "language": "python",
   "name": "python3"
  },
  "language_info": {
   "codemirror_mode": {
    "name": "ipython",
    "version": 3
   },
   "file_extension": ".py",
   "mimetype": "text/x-python",
   "name": "python",
   "nbconvert_exporter": "python",
   "pygments_lexer": "ipython3",
   "version": "3.11.2"
  }
 },
 "nbformat": 4,
 "nbformat_minor": 2
}
